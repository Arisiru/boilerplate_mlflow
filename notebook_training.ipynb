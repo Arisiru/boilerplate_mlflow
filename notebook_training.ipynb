{
 "cells": [
  {
   "cell_type": "code",
   "execution_count": 1,
   "id": "f2d9980d",
   "metadata": {},
   "outputs": [],
   "source": [
    "import os\n",
    "import sys\n",
    "import yaml\n",
    "from urllib.parse import urlparse"
   ]
  },
  {
   "cell_type": "markdown",
   "id": "8274ffb7",
   "metadata": {},
   "source": [
    "# Init"
   ]
  },
  {
   "cell_type": "code",
   "execution_count": 2,
   "id": "c673c736",
   "metadata": {},
   "outputs": [],
   "source": [
    "import logging\n",
    "import warnings"
   ]
  },
  {
   "cell_type": "code",
   "execution_count": 3,
   "id": "b1dfa976",
   "metadata": {},
   "outputs": [],
   "source": [
    "warnings.filterwarnings(\"ignore\")\n",
    "\n",
    "logging.basicConfig(level=logging.WARN)\n",
    "logger = logging.getLogger(__name__)"
   ]
  },
  {
   "cell_type": "code",
   "execution_count": 4,
   "id": "cf7ad46f",
   "metadata": {},
   "outputs": [],
   "source": [
    "import mlflow\n",
    "import mlflow.sklearn"
   ]
  },
  {
   "cell_type": "code",
   "execution_count": 5,
   "id": "250d9a17",
   "metadata": {},
   "outputs": [],
   "source": [
    "from src.preprocessing import dataset\n",
    "from src.training import modelfactory"
   ]
  },
  {
   "cell_type": "markdown",
   "id": "a6986d53",
   "metadata": {},
   "source": [
    "## Setup pahs"
   ]
  },
  {
   "cell_type": "code",
   "execution_count": 6,
   "id": "a02264aa",
   "metadata": {},
   "outputs": [],
   "source": [
    "_PATHS = {}\n",
    "_PATHS['project'] = os.path.join('.')\n",
    "_PATHS['configs'] = os.path.join(_PATHS['project'], 'training_config.yaml')"
   ]
  },
  {
   "cell_type": "markdown",
   "id": "e48c75ef",
   "metadata": {},
   "source": [
    "## Setup Flags"
   ]
  },
  {
   "cell_type": "code",
   "execution_count": 7,
   "id": "096f456d",
   "metadata": {},
   "outputs": [],
   "source": [
    "_FLAGS = {}"
   ]
  },
  {
   "cell_type": "markdown",
   "id": "a5da2abe",
   "metadata": {},
   "source": [
    "## Get config"
   ]
  },
  {
   "cell_type": "code",
   "execution_count": 8,
   "id": "0ce05371",
   "metadata": {},
   "outputs": [
    {
     "data": {
      "text/plain": [
       "{'hyperparameters': {'alpha': 0.5, 'l1_ratio': 0.1, 'seed': 42},\n",
       " 'data_file': 'data/wine-quality.csv',\n",
       " 'run': {'random_seed': 40, 'experiment': {'id': 'boilerplate_mlflow_name'}}}"
      ]
     },
     "execution_count": 8,
     "metadata": {},
     "output_type": "execute_result"
    }
   ],
   "source": [
    "training_config = {}\n",
    "with open(_PATHS['configs'], \"r\", encoding=\"utf-8\") as f_r:\n",
    "    training_config = yaml.safe_load(f_r)\n",
    "    \n",
    "training_config"
   ]
  },
  {
   "cell_type": "markdown",
   "id": "25374709",
   "metadata": {},
   "source": [
    "# Training"
   ]
  },
  {
   "cell_type": "markdown",
   "id": "de5b5e63",
   "metadata": {},
   "source": [
    "## Set mlFlow run"
   ]
  },
  {
   "cell_type": "code",
   "execution_count": 9,
   "id": "5bcd6518",
   "metadata": {},
   "outputs": [
    {
     "data": {
      "text/plain": [
       "<Experiment: artifact_location='file:///Users/alan_spark/Projects/boilerplates/boilerplate_mlflow/mlruns/3', experiment_id='3', lifecycle_stage='active', name='boilerplate_mlflow_name', tags={}>"
      ]
     },
     "execution_count": 9,
     "metadata": {},
     "output_type": "execute_result"
    }
   ],
   "source": [
    "experiment_id = training_config[\"run\"][\"experiment\"][\"id\"]\n",
    "mlflow.set_experiment(experiment_id)"
   ]
  },
  {
   "cell_type": "markdown",
   "id": "3a8b133d",
   "metadata": {},
   "source": [
    "## Start run"
   ]
  },
  {
   "cell_type": "code",
   "execution_count": 10,
   "id": "2d56847e",
   "metadata": {},
   "outputs": [
    {
     "data": {
      "text/plain": [
       "<ActiveRun: >"
      ]
     },
     "execution_count": 10,
     "metadata": {},
     "output_type": "execute_result"
    }
   ],
   "source": [
    "mlflow.start_run()"
   ]
  },
  {
   "cell_type": "markdown",
   "id": "954654bc",
   "metadata": {},
   "source": [
    "Track parameters. It is not limited to hyperparameter you can track whatever you think important for a run"
   ]
  },
  {
   "cell_type": "code",
   "execution_count": 11,
   "id": "f28f77ba",
   "metadata": {},
   "outputs": [],
   "source": [
    "mlflow.log_params(training_config[\"hyperparameters\"])"
   ]
  },
  {
   "cell_type": "markdown",
   "id": "b4582423",
   "metadata": {},
   "source": [
    "## Get dataset"
   ]
  },
  {
   "cell_type": "code",
   "execution_count": 12,
   "id": "b5684ed8",
   "metadata": {},
   "outputs": [],
   "source": [
    "train_xs, train_ys, test_xs, test_ys = dataset.prepare(\n",
    "        training_config[\"data_file\"]\n",
    "    )"
   ]
  },
  {
   "cell_type": "markdown",
   "id": "3282e62e",
   "metadata": {},
   "source": [
    "## Get model "
   ]
  },
  {
   "cell_type": "code",
   "execution_count": 13,
   "id": "7086c812",
   "metadata": {},
   "outputs": [],
   "source": [
    "model, model_flavor = modelfactory.fit(\n",
    "    training_config[\"hyperparameters\"], train_xs, train_ys\n",
    ")"
   ]
  },
  {
   "cell_type": "markdown",
   "id": "25dc0abd",
   "metadata": {},
   "source": [
    "## Evaluate model "
   ]
  },
  {
   "cell_type": "code",
   "execution_count": 14,
   "id": "f2ab8548",
   "metadata": {},
   "outputs": [
    {
     "name": "stdout",
     "output_type": "stream",
     "text": [
      "  RMSE: 0.7950988669306662\n",
      "  MAE: 0.6241872040904787\n",
      "  R2: 0.19979112548205147\n"
     ]
    }
   ],
   "source": [
    "rmse, mae, r_2 = modelfactory.eval_metrics(model, test_xs, test_ys)\n",
    "\n",
    "print(f\"  RMSE: {rmse}\")\n",
    "print(f\"  MAE: {mae}\")\n",
    "print(f\"  R2: {r_2}\")"
   ]
  },
  {
   "cell_type": "markdown",
   "id": "ce7efac6",
   "metadata": {},
   "source": [
    "track metrics"
   ]
  },
  {
   "cell_type": "code",
   "execution_count": 15,
   "id": "39c5b384",
   "metadata": {},
   "outputs": [],
   "source": [
    "mlflow.log_metric(\"rmse\", rmse)\n",
    "mlflow.log_metric(\"r2\", r_2)\n",
    "mlflow.log_metric(\"mae\", mae)"
   ]
  },
  {
   "cell_type": "markdown",
   "id": "7f2fe0d2",
   "metadata": {},
   "source": [
    "## Log model in mlFlow"
   ]
  },
  {
   "cell_type": "code",
   "execution_count": 16,
   "id": "2356c692",
   "metadata": {},
   "outputs": [],
   "source": [
    "tracking_url_type_store = urlparse(mlflow.get_tracking_uri()).scheme\n",
    "\n",
    "if tracking_url_type_store != \"file\":\n",
    "    model_flavor.log_model(model, \"model\", registered_model_name=experiment_id)\n",
    "else:\n",
    "    model_flavor.log_model(model, \"model\")"
   ]
  },
  {
   "cell_type": "code",
   "execution_count": 17,
   "id": "00e70e88",
   "metadata": {},
   "outputs": [],
   "source": [
    "## End run"
   ]
  },
  {
   "cell_type": "code",
   "execution_count": 18,
   "id": "3682ec74",
   "metadata": {},
   "outputs": [],
   "source": [
    "mlflow.end_run()"
   ]
  },
  {
   "cell_type": "markdown",
   "id": "ab3b5e39",
   "metadata": {},
   "source": [
    "_END_"
   ]
  },
  {
   "cell_type": "code",
   "execution_count": null,
   "id": "9be54a82",
   "metadata": {},
   "outputs": [],
   "source": []
  }
 ],
 "metadata": {
  "kernelspec": {
   "display_name": "boilerplate-mlflow",
   "language": "python",
   "name": "boilerplate-mlflow"
  },
  "language_info": {
   "codemirror_mode": {
    "name": "ipython",
    "version": 3
   },
   "file_extension": ".py",
   "mimetype": "text/x-python",
   "name": "python",
   "nbconvert_exporter": "python",
   "pygments_lexer": "ipython3",
   "version": "3.7.12"
  }
 },
 "nbformat": 4,
 "nbformat_minor": 5
}
